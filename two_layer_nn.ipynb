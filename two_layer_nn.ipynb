{
  "cells": [
    {
      "cell_type": "markdown",
      "metadata": {
        "id": "view-in-github",
        "colab_type": "text"
      },
      "source": [
        "<a href=\"https://colab.research.google.com/github/diplav09/C247_NNandDL/blob/main/two_layer_nn.ipynb\" target=\"_parent\"><img src=\"https://colab.research.google.com/assets/colab-badge.svg\" alt=\"Open In Colab\"/></a>"
      ]
    },
    {
      "cell_type": "markdown",
      "metadata": {
        "id": "azDPTY87jaOZ"
      },
      "source": [
        "## This is the 2-layer neural network notebook for ECE C147/C247 Homework #3\n",
        "\n",
        "Please follow the notebook linearly to implement a two layer neural network.\n",
        "\n",
        "Please print out the notebook entirely when completed.\n",
        "\n",
        "The goal of this notebook is to give you experience with training a two layer neural network."
      ]
    },
    {
      "cell_type": "code",
      "source": [
        "import numpy as np\n",
        "from scipy.io import loadmat\n",
        "import os\n",
        "from google.colab import drive\n",
        "drive.mount('/content/gdrive')\n",
        "import os\n",
        "os.environ['SIR_CONFIG_DIR'] = \"/content/gdrive/My Drive/\"\n",
        "%cd /content/gdrive/My Drive/\n",
        "%cd NN_DL/"
      ],
      "metadata": {
        "id": "Ze2SbJwxjbd7",
        "colab": {
          "base_uri": "https://localhost:8080/"
        },
        "outputId": "66d82a87-7f97-43af-bc79-5ab290ba31c2"
      },
      "execution_count": 1,
      "outputs": [
        {
          "output_type": "stream",
          "name": "stdout",
          "text": [
            "Mounted at /content/gdrive\n",
            "/content/gdrive/My Drive\n",
            "/content/gdrive/My Drive/NN_DL\n"
          ]
        }
      ]
    },
    {
      "cell_type": "code",
      "execution_count": 2,
      "metadata": {
        "id": "EiZUYuRYjaOd"
      },
      "outputs": [],
      "source": [
        "import random\n",
        "import numpy as np\n",
        "from utils.data_utils import load_CIFAR10\n",
        "import matplotlib.pyplot as plt\n",
        "\n",
        "%matplotlib inline\n",
        "%load_ext autoreload\n",
        "%autoreload 2\n",
        "\n",
        "def rel_error(x, y):\n",
        "    \"\"\" returns relative error \"\"\"\n",
        "    return np.max(np.abs(x - y) / (np.maximum(1e-8, np.abs(x) + np.abs(y))))"
      ]
    },
    {
      "cell_type": "code",
      "source": [
        "import numpy as np\n",
        "import matplotlib.pyplot as plt\n",
        "from numpy import linalg as LA\n",
        "\n",
        "class TwoLayerNet(object):\n",
        "  \"\"\"\n",
        "  A two-layer fully-connected neural network. The net has an input dimension of\n",
        "  N, a hidden layer dimension of H, and performs classification over C classes.\n",
        "  We train the network with a softmax loss function and L2 regularization on the\n",
        "  weight matrices. The network uses a ReLU nonlinearity after the first fully\n",
        "  connected layer.\n",
        "\n",
        "  In other words, the network has the following architecture:\n",
        "\n",
        "  input - fully connected layer - ReLU - fully connected layer - softmax\n",
        "\n",
        "  The outputs of the second fully-connected layer are the scores for each class.\n",
        "  \"\"\"\n",
        "  def relu(self,x):\n",
        "    return x * (x > 0)\n",
        "  def softmax(self,x):\n",
        "    x = x - np.reshape(np.max(x,axis=1),(x.shape[0],1))\n",
        "    h = np.exp(x)\n",
        "    h = h / np.reshape(np.sum(h,axis=1),(h.shape[0],1))\n",
        "    return h\n",
        "  def __init__(self, input_size, hidden_size, output_size, std=1e-4):\n",
        "    \"\"\"\n",
        "    Initialize the model. Weights are initialized to small random values and\n",
        "    biases are initialized to zero. Weights and biases are stored in the\n",
        "    variable self.params, which is a dictionary with the following keys:\n",
        "\n",
        "    W1: First layer weights; has shape (H, D)\n",
        "    b1: First layer biases; has shape (H,)\n",
        "    W2: Second layer weights; has shape (C, H)\n",
        "    b2: Second layer biases; has shape (C,)\n",
        "\n",
        "    Inputs:\n",
        "    - input_size: The dimension D of the input data.\n",
        "    - hidden_size: The number of neurons H in the hidden layer.\n",
        "    - output_size: The number of classes C.\n",
        "    \"\"\"\n",
        "    self.params = {}\n",
        "    self.params['W1'] = std * np.random.randn(hidden_size, input_size)\n",
        "    self.params['b1'] = np.zeros(hidden_size)\n",
        "    self.params['W2'] = std * np.random.randn(output_size, hidden_size)\n",
        "    self.params['b2'] = np.zeros(output_size)\n",
        "\n",
        "\n",
        "  def loss(self, X, y=None, reg=0.0):\n",
        "    \"\"\"\n",
        "    Compute the loss and gradients for a two layer fully connected neural\n",
        "    network.\n",
        "\n",
        "    Inputs:\n",
        "    - X: Input data of shape (N, D). Each X[i] is a training sample.\n",
        "    - y: Vector of training labels. y[i] is the label for X[i], and each y[i] is\n",
        "      an integer in the range 0 <= y[i] < C. This parameter is optional; if it\n",
        "      is not passed then we only return scores, and if it is passed then we\n",
        "      instead return the loss and gradients.\n",
        "    - reg: Regularization strength.\n",
        "\n",
        "    Returns:\n",
        "    If y is None, return a matrix scores of shape (N, C) where scores[i, c] is\n",
        "    the score for class c on input X[i].\n",
        "\n",
        "    If y is not None, instead return a tuple of:\n",
        "    - loss: Loss (data loss and regularization loss) for this batch of training\n",
        "      samples.\n",
        "    - grads: Dictionary mapping parameter names to gradients of those parameters\n",
        "      with respect to the loss function; has the same keys as self.params.\n",
        "    \"\"\"\n",
        "    # Unpack variables from the params dictionary\n",
        "    W1, b1 = self.params['W1'], self.params['b1']\n",
        "    W2, b2 = self.params['W2'], self.params['b2']\n",
        "    N, D = X.shape\n",
        "\n",
        "    z1 = np.dot(X,W1.T)+b1 # (N,H)\n",
        "    f1 = self.relu(z1)\n",
        "    z2 = np.dot(f1,W2.T)+b2 # (N,C)\n",
        "    scores = z2\n",
        "\n",
        "    if y is None:\n",
        "      return scores\n",
        "\n",
        "    sft_loss = np.sum(np.log(np.sum(np.exp(scores),axis=1))) - np.trace(np.dot(f1,W2[y,:].T)+b2[y])\n",
        "    sft_loss = sft_loss/N\n",
        "\n",
        "    reg_loss = 0.5*reg*np.sum(W1*W1) + 0.5*reg*np.sum(W2*W2)\n",
        "    \n",
        "    loss = sft_loss + reg_loss \n",
        "\n",
        "    grads = {}\n",
        "    grads_int = {}\n",
        "\n",
        "    sft = np.exp(scores)\n",
        "    grads_int['Z2'] = sft / np.reshape(np.sum(sft,axis=1),(sft.shape[0],1))\n",
        "    grads_int['Z2'][np.arange(N),y] -= 1\n",
        "    grads_int['Z2'] = grads_int['Z2']/N\n",
        "\n",
        "    grads['b2'] = grads_int['Z2'].sum(axis=0)\n",
        "\n",
        "    grads['W2'] = np.dot(grads_int['Z2'].T,f1) + reg*W2\n",
        "\n",
        "    grads_int['F1'] = np.dot(grads_int['Z2'],W2)\n",
        "\n",
        "    grads_int['Z1'] = grads_int['F1']\n",
        "    grads_int['Z1'][z1 < 0] = 0\n",
        "\n",
        "    grads['b1'] = grads_int['Z1'].sum(axis=0)\n",
        "\n",
        "    grads['W1'] = np.dot(grads_int['Z1'].T,X) + reg*W1\n",
        "\n",
        "    return loss, grads\n",
        "\n",
        "  def train(self, X, y, X_val, y_val,\n",
        "            learning_rate=1e-3, learning_rate_decay=0.95,\n",
        "            reg=1e-5, num_iters=100,\n",
        "            batch_size=200, verbose=False):\n",
        "    \"\"\"\n",
        "    Train this neural network using stochastic gradient descent.\n",
        "\n",
        "    Inputs:\n",
        "    - X: A numpy array of shape (N, D) giving training data.\n",
        "    - y: A numpy array f shape (N,) giving training labels; y[i] = c means that\n",
        "      X[i] has label c, where 0 <= c < C.\n",
        "    - X_val: A numpy array of shape (N_val, D) giving validation data.\n",
        "    - y_val: A numpy array of shape (N_val,) giving validation labels.\n",
        "    - learning_rate: Scalar giving learning rate for optimization.\n",
        "    - learning_rate_decay: Scalar giving factor used to decay the learning rate\n",
        "      after each epoch.\n",
        "    - reg: Scalar giving regularization strength.\n",
        "    - num_iters: Number of steps to take when optimizing.\n",
        "    - batch_size: Number of training examples to use per step.\n",
        "    - verbose: boolean; if true print progress during optimization.\n",
        "    \"\"\"\n",
        "    num_train = X.shape[0]\n",
        "    iterations_per_epoch = max(num_train / batch_size, 1)\n",
        "\n",
        "    # Use SGD to optimize the parameters in self.model\n",
        "    loss_history = []\n",
        "    train_acc_history = []\n",
        "    val_acc_history = []\n",
        "\n",
        "    for it in np.arange(num_iters):\n",
        "\n",
        "      indx = np.random.choice(num_train, batch_size)\n",
        "      X_batch = X[indx,:]\n",
        "      y_batch = y[indx]\n",
        "\n",
        "       # Compute loss and gradients using the current minibatch\n",
        "      loss, grads = self.loss(X_batch, y=y_batch, reg=reg)\n",
        "      loss_history.append(loss)\n",
        "      \n",
        "      # ================================================================ #\n",
        "      # YOUR CODE HERE:\n",
        "      #   Perform a gradient descent step using the minibatch to update\n",
        "      #   all parameters (i.e., W1, W2, b1, and b2).\n",
        "      # ================================================================ #\n",
        "\n",
        "      pass\n",
        "\n",
        "      # ================================================================ #\n",
        "      # END YOUR CODE HERE\n",
        "      # ================================================================ #\n",
        "\n",
        "      if verbose and it % 100 == 0:\n",
        "        print('iteration {} / {}: loss {}'.format(it, num_iters, loss))\n",
        "\n",
        "      # Every epoch, check train and val accuracy and decay learning rate.\n",
        "      if it % iterations_per_epoch == 0:\n",
        "        # Check accuracy\n",
        "        train_acc = (self.predict(X_batch) == y_batch).mean()\n",
        "        val_acc = (self.predict(X_val) == y_val).mean()\n",
        "        train_acc_history.append(train_acc)\n",
        "        val_acc_history.append(val_acc)\n",
        "\n",
        "        # Decay learning rate\n",
        "        learning_rate *= learning_rate_decay\n",
        "\n",
        "    return {\n",
        "      'loss_history': loss_history,\n",
        "      'train_acc_history': train_acc_history,\n",
        "      'val_acc_history': val_acc_history,\n",
        "    }\n",
        "\n",
        "  def predict(self, X):\n",
        "    \"\"\"\n",
        "    Use the trained weights of this two-layer network to predict labels for\n",
        "    data points. For each data point we predict scores for each of the C\n",
        "    classes, and assign each data point to the class with the highest score.\n",
        "\n",
        "    Inputs:\n",
        "    - X: A numpy array of shape (N, D) giving N D-dimensional data points to\n",
        "      classify.\n",
        "\n",
        "    Returns:\n",
        "    - y_pred: A numpy array of shape (N,) giving predicted labels for each of\n",
        "      the elements of X. For all i, y_pred[i] = c means that X[i] is predicted\n",
        "      to have class c, where 0 <= c < C.\n",
        "    \"\"\"\n",
        "    y_pred = None\n",
        "\n",
        "    # ================================================================ #\n",
        "    # YOUR CODE HERE:\n",
        "    #   Predict the class given the input data.\n",
        "    # ================================================================ #\n",
        "    pass\n",
        "\n",
        "\n",
        "    # ================================================================ #\n",
        "    # END YOUR CODE HERE\n",
        "    # ================================================================ #\n",
        "\n",
        "    return y_pred\n"
      ],
      "metadata": {
        "id": "pAOWvsMhp9GR"
      },
      "execution_count": 35,
      "outputs": []
    },
    {
      "cell_type": "markdown",
      "metadata": {
        "id": "RAnqpTFCjaOf"
      },
      "source": [
        "## Toy example\n",
        "\n",
        "Before loading CIFAR-10, there will be a toy example to test your implementation of the forward and backward pass"
      ]
    },
    {
      "cell_type": "code",
      "execution_count": null,
      "metadata": {
        "id": "XZoqamXujaOg"
      },
      "outputs": [],
      "source": [
        "from nndl.neural_net import TwoLayerNet"
      ]
    },
    {
      "cell_type": "code",
      "execution_count": 36,
      "metadata": {
        "id": "3wleBdzAjaOg"
      },
      "outputs": [],
      "source": [
        "# Create a small net and some toy data to check your implementations.\n",
        "# Note that we set the random seed for repeatable experiments.\n",
        "\n",
        "input_size = 4\n",
        "hidden_size = 10\n",
        "num_classes = 3\n",
        "num_inputs = 5\n",
        "\n",
        "def init_toy_model():\n",
        "    np.random.seed(0)\n",
        "    return TwoLayerNet(input_size, hidden_size, num_classes, std=1e-1)\n",
        "\n",
        "def init_toy_data():\n",
        "    np.random.seed(1)\n",
        "    X = 10 * np.random.randn(num_inputs, input_size)\n",
        "    y = np.array([0, 1, 2, 2, 1])\n",
        "    return X, y\n",
        "\n",
        "net = init_toy_model()\n",
        "X, y = init_toy_data()"
      ]
    },
    {
      "cell_type": "markdown",
      "metadata": {
        "id": "LdHYFC4vjaOh"
      },
      "source": [
        "### Compute forward pass scores"
      ]
    },
    {
      "cell_type": "code",
      "execution_count": 18,
      "metadata": {
        "id": "wblgSSrejaOi",
        "colab": {
          "base_uri": "https://localhost:8080/"
        },
        "outputId": "6426e471-45b6-4566-ab11-5585a90a0994"
      },
      "outputs": [
        {
          "output_type": "stream",
          "name": "stdout",
          "text": [
            "Your scores:\n",
            "[[-1.07260209  0.05083871 -0.87253915]\n",
            " [-2.02778743 -0.10832494 -1.52641362]\n",
            " [-0.74225908  0.15259725 -0.39578548]\n",
            " [-0.38172726  0.10835902 -0.17328274]\n",
            " [-0.64417314 -0.18886813 -0.41106892]]\n",
            "\n",
            "correct scores:\n",
            "[[-1.07260209  0.05083871 -0.87253915]\n",
            " [-2.02778743 -0.10832494 -1.52641362]\n",
            " [-0.74225908  0.15259725 -0.39578548]\n",
            " [-0.38172726  0.10835902 -0.17328274]\n",
            " [-0.64417314 -0.18886813 -0.41106892]]\n",
            "\n",
            "Difference between your scores and correct scores:\n",
            "3.381231233889892e-08\n"
          ]
        }
      ],
      "source": [
        "## Implement the forward pass of the neural network.\n",
        "\n",
        "# Note, there is a statement if y is None: return scores, which is why \n",
        "# the following call will calculate the scores.\n",
        "scores = net.loss(X)\n",
        "print('Your scores:')\n",
        "print(scores)\n",
        "print()\n",
        "print('correct scores:')\n",
        "correct_scores = np.asarray([\n",
        "    [-1.07260209,  0.05083871, -0.87253915],\n",
        "    [-2.02778743, -0.10832494, -1.52641362],\n",
        "    [-0.74225908,  0.15259725, -0.39578548],\n",
        "    [-0.38172726,  0.10835902, -0.17328274],\n",
        "    [-0.64417314, -0.18886813, -0.41106892]])\n",
        "print(correct_scores)\n",
        "print()\n",
        "\n",
        "# The difference should be very small. We get < 1e-7\n",
        "print('Difference between your scores and correct scores:')\n",
        "print(np.sum(np.abs(scores - correct_scores)))"
      ]
    },
    {
      "cell_type": "markdown",
      "metadata": {
        "id": "_jtYeQ9YjaOj"
      },
      "source": [
        "### Forward pass loss"
      ]
    },
    {
      "cell_type": "code",
      "execution_count": 37,
      "metadata": {
        "id": "iks5DKz0jaOk",
        "colab": {
          "base_uri": "https://localhost:8080/"
        },
        "outputId": "611041fb-56be-4dc5-f171-5d9b7b724010"
      },
      "outputs": [
        {
          "output_type": "stream",
          "name": "stdout",
          "text": [
            "Loss: 1.071696123862817\n",
            "Difference between your loss and correct loss:\n",
            "0.0\n"
          ]
        }
      ],
      "source": [
        "loss, _ = net.loss(X, y, reg=0.05)\n",
        "correct_loss = 1.071696123862817\n",
        "\n",
        "# should be very small, we get < 1e-12\n",
        "print(\"Loss:\",loss)\n",
        "print('Difference between your loss and correct loss:')\n",
        "print(np.sum(np.abs(loss - correct_loss)))"
      ]
    },
    {
      "cell_type": "markdown",
      "metadata": {
        "id": "aC0NSI0fjaOl"
      },
      "source": [
        "### Backward pass\n",
        "\n",
        "Implements the backwards pass of the neural network.  Check your gradients with the gradient check utilities provided."
      ]
    },
    {
      "cell_type": "code",
      "execution_count": 38,
      "metadata": {
        "id": "6zRHYygnjaOl",
        "colab": {
          "base_uri": "https://localhost:8080/"
        },
        "outputId": "bbb44ac3-029d-4f83-fc08-39c213703074"
      },
      "outputs": [
        {
          "output_type": "stream",
          "name": "stdout",
          "text": [
            "b2 max relative error: 1.8391748601536041e-10\n",
            "W2 max relative error: 3.425473272871017e-10\n",
            "b1 max relative error: 3.1726806716844575e-09\n",
            "W1 max relative error: 1.2832874456864775e-09\n"
          ]
        }
      ],
      "source": [
        "from utils.gradient_check import eval_numerical_gradient\n",
        "\n",
        "# Use numeric gradient checking to check your implementation of the backward pass.\n",
        "# If your implementation is correct, the difference between the numeric and\n",
        "# analytic gradients should be less than 1e-8 for each of W1, W2, b1, and b2.\n",
        "\n",
        "loss, grads = net.loss(X, y, reg=0.05)\n",
        "\n",
        "# these should all be less than 1e-8 or so\n",
        "for param_name in grads:\n",
        "    f = lambda W: net.loss(X, y, reg=0.05)[0]\n",
        "    param_grad_num = eval_numerical_gradient(f, net.params[param_name], verbose=False)\n",
        "    print('{} max relative error: {}'.format(param_name, rel_error(param_grad_num, grads[param_name])))"
      ]
    },
    {
      "cell_type": "markdown",
      "metadata": {
        "id": "2yBTTlRBjaOm"
      },
      "source": [
        "### Training the network\n",
        "\n",
        "Implement neural_net.train() to train the network via stochastic gradient descent, much like the softmax."
      ]
    },
    {
      "cell_type": "code",
      "execution_count": null,
      "metadata": {
        "id": "wtUI382ljaOm"
      },
      "outputs": [],
      "source": [
        "net = init_toy_model()\n",
        "stats = net.train(X, y, X, y,\n",
        "            learning_rate=1e-1, reg=5e-6,\n",
        "            num_iters=100, verbose=False)\n",
        "\n",
        "print('Final training loss: ', stats['loss_history'][-1])\n",
        "\n",
        "# plot the loss history\n",
        "plt.plot(stats['loss_history'])\n",
        "plt.xlabel('iteration')\n",
        "plt.ylabel('training loss')\n",
        "plt.title('Training Loss history')\n",
        "plt.show()"
      ]
    },
    {
      "cell_type": "markdown",
      "metadata": {
        "id": "iKl3IwixjaOn"
      },
      "source": [
        "## Classify CIFAR-10\n",
        "\n",
        "Do classification on the CIFAR-10 dataset."
      ]
    },
    {
      "cell_type": "code",
      "execution_count": null,
      "metadata": {
        "id": "FvIdYAGQjaOn"
      },
      "outputs": [],
      "source": [
        "from utils.data_utils import load_CIFAR10\n",
        "\n",
        "def get_CIFAR10_data(num_training=49000, num_validation=1000, num_test=1000):\n",
        "    \"\"\"\n",
        "    Load the CIFAR-10 dataset from disk and perform preprocessing to prepare\n",
        "    it for the two-layer neural net classifier. \n",
        "    \"\"\"\n",
        "    # Load the raw CIFAR-10 data\n",
        "    cifar10_dir = 'cifar-10-batches-py'\n",
        "    X_train, y_train, X_test, y_test = load_CIFAR10(cifar10_dir)\n",
        "        \n",
        "    # Subsample the data\n",
        "    mask = list(range(num_training, num_training + num_validation))\n",
        "    X_val = X_train[mask]\n",
        "    y_val = y_train[mask]\n",
        "    mask = list(range(num_training))\n",
        "    X_train = X_train[mask]\n",
        "    y_train = y_train[mask]\n",
        "    mask = list(range(num_test))\n",
        "    X_test = X_test[mask]\n",
        "    y_test = y_test[mask]\n",
        "\n",
        "    # Normalize the data: subtract the mean image\n",
        "    mean_image = np.mean(X_train, axis=0)\n",
        "    X_train -= mean_image\n",
        "    X_val -= mean_image\n",
        "    X_test -= mean_image\n",
        "\n",
        "    # Reshape data to rows\n",
        "    X_train = X_train.reshape(num_training, -1)\n",
        "    X_val = X_val.reshape(num_validation, -1)\n",
        "    X_test = X_test.reshape(num_test, -1)\n",
        "\n",
        "    return X_train, y_train, X_val, y_val, X_test, y_test\n",
        "\n",
        "\n",
        "# Invoke the above function to get our data.\n",
        "X_train, y_train, X_val, y_val, X_test, y_test = get_CIFAR10_data()\n",
        "print('Train data shape: ', X_train.shape)\n",
        "print('Train labels shape: ', y_train.shape)\n",
        "print('Validation data shape: ', X_val.shape)\n",
        "print('Validation labels shape: ', y_val.shape)\n",
        "print('Test data shape: ', X_test.shape)\n",
        "print('Test labels shape: ', y_test.shape)"
      ]
    },
    {
      "cell_type": "markdown",
      "metadata": {
        "id": "03myQ3uxjaOo"
      },
      "source": [
        "### Running SGD\n",
        "\n",
        "If your implementation is correct, you should see a validation accuracy of around 28-29%."
      ]
    },
    {
      "cell_type": "code",
      "execution_count": null,
      "metadata": {
        "id": "yW2yitQzjaOo"
      },
      "outputs": [],
      "source": [
        "input_size = 32 * 32 * 3\n",
        "hidden_size = 50\n",
        "num_classes = 10\n",
        "net = TwoLayerNet(input_size, hidden_size, num_classes)\n",
        "\n",
        "# Train the network\n",
        "stats = net.train(X_train, y_train, X_val, y_val,\n",
        "            num_iters=1000, batch_size=200,\n",
        "            learning_rate=1e-4, learning_rate_decay=0.95,\n",
        "            reg=0.25, verbose=True)\n",
        "\n",
        "# Predict on the validation set\n",
        "val_acc = (net.predict(X_val) == y_val).mean()\n",
        "print('Validation accuracy: ', val_acc)\n",
        "\n",
        "# Save this net as the variable subopt_net for later comparison.\n",
        "subopt_net = net"
      ]
    },
    {
      "cell_type": "markdown",
      "metadata": {
        "id": "vqmzPAAljaOp"
      },
      "source": [
        "## Questions:\n",
        "\n",
        "The training accuracy isn't great.  \n",
        "\n",
        "(1) What are some of the reasons why this is the case?  Take the following cell to do some analyses and then report your answers in the cell following the one below.\n",
        "\n",
        "(2) How should you fix the problems you identified in (1)?\n"
      ]
    },
    {
      "cell_type": "code",
      "execution_count": null,
      "metadata": {
        "scrolled": true,
        "id": "fIBm3iI6jaOp"
      },
      "outputs": [],
      "source": [
        "stats['train_acc_history']"
      ]
    },
    {
      "cell_type": "code",
      "execution_count": null,
      "metadata": {
        "id": "z7mCygjHjaOp"
      },
      "outputs": [],
      "source": [
        "# ================================================================ #\n",
        "# YOUR CODE HERE:\n",
        "#   Do some debugging to gain some insight into why the optimization\n",
        "#   isn't great.\n",
        "# ================================================================ #\n",
        "\n",
        "# Plot the loss function and train / validation accuracies\n",
        "\n",
        "pass\n",
        "# ================================================================ #\n",
        "# END YOUR CODE HERE\n",
        "# ================================================================ #"
      ]
    },
    {
      "cell_type": "markdown",
      "metadata": {
        "id": "tghgETqVjaOq"
      },
      "source": [
        "## Answers:\n",
        "\n",
        "(1) You fill this in\n",
        "\n",
        "(2) You fill this in"
      ]
    },
    {
      "cell_type": "markdown",
      "metadata": {
        "id": "-JjwNUGnjaOq"
      },
      "source": [
        "## Optimize the neural network\n",
        "\n",
        "Use the following part of the Jupyter notebook to optimize your hyperparameters on the validation set.  Store your nets as best_net."
      ]
    },
    {
      "cell_type": "code",
      "execution_count": null,
      "metadata": {
        "id": "Q3y2xl5WjaOq"
      },
      "outputs": [],
      "source": [
        "best_net = None # store the best model into this \n",
        "\n",
        "# ================================================================ #\n",
        "# YOUR CODE HERE:\n",
        "#   Optimize over your hyperparameters to arrive at the best neural\n",
        "#   network.  You should be able to get over 50% validation accuracy.\n",
        "#   For this part of the notebook, we will give credit based on the\n",
        "#   accuracy you get.  Your score on this question will be multiplied by:\n",
        "#      min(floor((X - 28%)) / %22, 1) \n",
        "#   where if you get 50% or higher validation accuracy, you get full\n",
        "#   points.\n",
        "#\n",
        "#   Note, you need to use the same network structure (keep hidden_size = 50)!\n",
        "# ================================================================ #\n",
        "pass\n",
        "\n",
        "# ================================================================ #\n",
        "# END YOUR CODE HERE\n",
        "# ================================================================ #\n",
        "val_acc = (best_net.predict(X_val) == y_val).mean()\n",
        "print('Validation accuracy: ', val_acc)"
      ]
    },
    {
      "cell_type": "code",
      "execution_count": null,
      "metadata": {
        "id": "TfGJ6DSAjaOr"
      },
      "outputs": [],
      "source": [
        "from utils.vis_utils import visualize_grid\n",
        "\n",
        "# Visualize the weights of the network\n",
        "\n",
        "def show_net_weights(net):\n",
        "    W1 = net.params['W1']\n",
        "    W1 = W1.T.reshape(32, 32, 3, -1).transpose(3, 0, 1, 2)\n",
        "    plt.imshow(visualize_grid(W1, padding=3).astype('uint8'))\n",
        "    plt.gca().axis('off')\n",
        "    plt.show()\n",
        "\n",
        "show_net_weights(subopt_net)\n",
        "show_net_weights(best_net)"
      ]
    },
    {
      "cell_type": "markdown",
      "metadata": {
        "id": "z90A_kbujaOr"
      },
      "source": [
        "## Question:\n",
        "\n",
        "(1) What differences do you see in the weights between the suboptimal net and the best net you arrived at?"
      ]
    },
    {
      "cell_type": "markdown",
      "metadata": {
        "id": "RpPmi-sYjaOr"
      },
      "source": [
        "## Answer:\n",
        "\n",
        "(1) You fill this in"
      ]
    },
    {
      "cell_type": "markdown",
      "metadata": {
        "id": "E4SB6zHLjaOr"
      },
      "source": [
        "## Evaluate on test set "
      ]
    },
    {
      "cell_type": "code",
      "execution_count": null,
      "metadata": {
        "id": "O-mqGpfTjaOr"
      },
      "outputs": [],
      "source": [
        "test_acc = (best_net.predict(X_test) == y_test).mean()\n",
        "print('Test accuracy: ', test_acc)"
      ]
    }
  ],
  "metadata": {
    "kernelspec": {
      "display_name": "Python 3",
      "language": "python",
      "name": "python3"
    },
    "language_info": {
      "codemirror_mode": {
        "name": "ipython",
        "version": 3
      },
      "file_extension": ".py",
      "mimetype": "text/x-python",
      "name": "python",
      "nbconvert_exporter": "python",
      "pygments_lexer": "ipython3",
      "version": "3.6.4"
    },
    "varInspector": {
      "cols": {
        "lenName": 16,
        "lenType": 16,
        "lenVar": 40
      },
      "kernels_config": {
        "python": {
          "delete_cmd_postfix": "",
          "delete_cmd_prefix": "del ",
          "library": "var_list.py",
          "varRefreshCmd": "print(var_dic_list())"
        },
        "r": {
          "delete_cmd_postfix": ") ",
          "delete_cmd_prefix": "rm(",
          "library": "var_list.r",
          "varRefreshCmd": "cat(var_dic_list()) "
        }
      },
      "types_to_exclude": [
        "module",
        "function",
        "builtin_function_or_method",
        "instance",
        "_Feature"
      ],
      "window_display": false
    },
    "colab": {
      "name": "two_layer_nn.ipynb",
      "provenance": [],
      "collapsed_sections": [],
      "include_colab_link": true
    }
  },
  "nbformat": 4,
  "nbformat_minor": 0
}