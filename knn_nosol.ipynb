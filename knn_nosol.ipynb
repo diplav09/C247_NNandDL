{
  "cells": [
    {
      "cell_type": "markdown",
      "metadata": {
        "id": "view-in-github",
        "colab_type": "text"
      },
      "source": [
        "<a href=\"https://colab.research.google.com/github/diplav09/C247_NNandDL/blob/main/knn_nosol.ipynb\" target=\"_parent\"><img src=\"https://colab.research.google.com/assets/colab-badge.svg\" alt=\"Open In Colab\"/></a>"
      ]
    },
    {
      "cell_type": "markdown",
      "metadata": {
        "id": "nSTHhKmS817B"
      },
      "source": [
        "## This is the k-nearest neighbors workbook for ECE C147/C247 Assignment #2\n",
        "\n",
        "Please follow the notebook linearly to implement k-nearest neighbors.\n",
        "\n",
        "Please print out the workbook entirely when completed.\n",
        "\n",
        "The goal of this workbook is to give you experience with the data, training and evaluating a simple classifier, k-fold cross validation, and as a Python refresher."
      ]
    },
    {
      "cell_type": "markdown",
      "metadata": {
        "id": "kX7SvwrZ817G"
      },
      "source": [
        "## Import the appropriate libraries"
      ]
    },
    {
      "cell_type": "code",
      "source": [
        "import numpy as np\n",
        "from scipy.io import loadmat\n",
        "import os\n",
        "from google.colab import drive\n",
        "drive.mount('/content/gdrive')\n",
        "import os\n",
        "os.environ['SIR_CONFIG_DIR'] = \"/content/gdrive/My Drive/\"\n",
        "%cd /content/gdrive/My Drive/"
      ],
      "metadata": {
        "colab": {
          "base_uri": "https://localhost:8080/"
        },
        "id": "aUzJcyWa9x-B",
        "outputId": "efd2354f-3ca6-4e9b-fe46-335bcd8dac8e"
      },
      "execution_count": 1,
      "outputs": [
        {
          "output_type": "stream",
          "name": "stdout",
          "text": [
            "Drive already mounted at /content/gdrive; to attempt to forcibly remount, call drive.mount(\"/content/gdrive\", force_remount=True).\n",
            "/content/gdrive/My Drive\n"
          ]
        }
      ]
    },
    {
      "cell_type": "code",
      "source": [
        "cd NN_DL/"
      ],
      "metadata": {
        "colab": {
          "base_uri": "https://localhost:8080/"
        },
        "id": "GAUyZugK-CfV",
        "outputId": "09f68b5f-fa6c-4eef-a9d6-e07c0cbde14d"
      },
      "execution_count": 2,
      "outputs": [
        {
          "output_type": "stream",
          "name": "stdout",
          "text": [
            "/content/gdrive/My Drive/NN_DL\n"
          ]
        }
      ]
    },
    {
      "cell_type": "code",
      "source": [
        "!wget http://www.cs.toronto.edu/~kriz/cifar-10-python.tar.gz"
      ],
      "metadata": {
        "colab": {
          "base_uri": "https://localhost:8080/"
        },
        "id": "vSgymxt8-GXY",
        "outputId": "d0cb8b38-2fd3-4297-849c-b9717e09f7f1"
      },
      "execution_count": null,
      "outputs": [
        {
          "output_type": "stream",
          "name": "stdout",
          "text": [
            "--2022-01-20 05:32:14--  http://www.cs.toronto.edu/~kriz/cifar-10-python.tar.gz\n",
            "Resolving www.cs.toronto.edu (www.cs.toronto.edu)... 128.100.3.30\n",
            "Connecting to www.cs.toronto.edu (www.cs.toronto.edu)|128.100.3.30|:80... connected.\n",
            "HTTP request sent, awaiting response... 200 OK\n",
            "Length: 170498071 (163M) [application/x-gzip]\n",
            "Saving to: ‘cifar-10-python.tar.gz’\n",
            "\n",
            "cifar-10-python.tar 100%[===================>] 162.60M  38.8MB/s    in 4.8s    \n",
            "\n",
            "2022-01-20 05:32:19 (33.7 MB/s) - ‘cifar-10-python.tar.gz’ saved [170498071/170498071]\n",
            "\n"
          ]
        }
      ]
    },
    {
      "cell_type": "code",
      "source": [
        "!tar -xzvf cifar-10-python.tar.gz"
      ],
      "metadata": {
        "colab": {
          "base_uri": "https://localhost:8080/"
        },
        "id": "hht_m8xN-Mia",
        "outputId": "17d74939-bfdb-47d3-cda9-b3079a30ff6b"
      },
      "execution_count": null,
      "outputs": [
        {
          "output_type": "stream",
          "name": "stdout",
          "text": [
            "cifar-10-batches-py/\n",
            "cifar-10-batches-py/data_batch_4\n",
            "cifar-10-batches-py/readme.html\n",
            "cifar-10-batches-py/test_batch\n",
            "cifar-10-batches-py/data_batch_3\n",
            "cifar-10-batches-py/batches.meta\n",
            "cifar-10-batches-py/data_batch_2\n",
            "cifar-10-batches-py/data_batch_5\n",
            "cifar-10-batches-py/data_batch_1\n"
          ]
        }
      ]
    },
    {
      "cell_type": "code",
      "source": [
        "ls"
      ],
      "metadata": {
        "colab": {
          "base_uri": "https://localhost:8080/"
        },
        "id": "9zkLqllI-gbj",
        "outputId": "82b35b5a-32bc-49b0-b831-0e7d7b6763dd"
      },
      "execution_count": 3,
      "outputs": [
        {
          "output_type": "stream",
          "name": "stdout",
          "text": [
            "\u001b[0m\u001b[01;34mcifar-10-batches-py\u001b[0m/  knn_nosol.ipynb  linear_regression.ipynb  \u001b[01;34mutils\u001b[0m/\n"
          ]
        }
      ]
    },
    {
      "cell_type": "code",
      "execution_count": 4,
      "metadata": {
        "id": "ucuwuxC9817G"
      },
      "outputs": [],
      "source": [
        "import numpy as np # for doing most of our calculations\n",
        "import matplotlib.pyplot as plt# for plotting\n",
        "import sys\n",
        "sys.path.insert(1, './utils')\n",
        "from utils.data_utils import load_CIFAR10 # function to load the CIFAR-10 dataset.\n",
        "\n",
        "# Load matplotlib images inline\n",
        "%matplotlib inline\n",
        "\n",
        "# These are important for reloading any code you write in external .py files.\n",
        "# see http://stackoverflow.com/questions/1907993/autoreload-of-modules-in-ipython\n",
        "%load_ext autoreload\n",
        "%autoreload 2"
      ]
    },
    {
      "cell_type": "code",
      "execution_count": 5,
      "metadata": {
        "id": "h_LHLDSL817I",
        "colab": {
          "base_uri": "https://localhost:8080/"
        },
        "outputId": "9d38f459-e3e2-4fea-9218-a45a5ac52ee4"
      },
      "outputs": [
        {
          "output_type": "stream",
          "name": "stdout",
          "text": [
            "Training data shape:  (50000, 32, 32, 3)\n",
            "Training labels shape:  (50000,)\n",
            "Test data shape:  (10000, 32, 32, 3)\n",
            "Test labels shape:  (10000,)\n"
          ]
        }
      ],
      "source": [
        "# Set the path to the CIFAR-10 data\n",
        "cifar10_dir = './cifar-10-batches-py' # You need to update this line\n",
        "X_train, y_train, X_test, y_test = load_CIFAR10(cifar10_dir)\n",
        "\n",
        "# As a sanity check, we print out the size of the training and test data.\n",
        "print('Training data shape: ', X_train.shape)\n",
        "print('Training labels shape: ', y_train.shape)\n",
        "print('Test data shape: ', X_test.shape)\n",
        "print('Test labels shape: ', y_test.shape)"
      ]
    },
    {
      "cell_type": "code",
      "execution_count": 6,
      "metadata": {
        "id": "6W3jLKNk817J",
        "colab": {
          "base_uri": "https://localhost:8080/",
          "height": 264
        },
        "outputId": "cee0d9e7-5546-45ff-c44f-d04311d5d59b"
      },
      "outputs": [
        {
          "output_type": "display_data",
          "data": {
            "image/png": "[encoded data removed]",
            "text/plain": [
              "<Figure size 432x288 with 70 Axes>"
            ]
          },
          "metadata": {
            "needs_background": "light"
          }
        }
      ],
      "source": [
        "# Visualize some examples from the dataset.\n",
        "# We show a few examples of training images from each class.\n",
        "classes = ['plane', 'car', 'bird', 'cat', 'deer', 'dog', 'frog', 'horse', 'ship', 'truck']\n",
        "num_classes = len(classes)\n",
        "samples_per_class = 7\n",
        "for y, cls in enumerate(classes):\n",
        "    idxs = np.flatnonzero(y_train == y)\n",
        "    idxs = np.random.choice(idxs, samples_per_class, replace=False)\n",
        "    for i, idx in enumerate(idxs):\n",
        "        plt_idx = i * num_classes + y + 1\n",
        "        plt.subplot(samples_per_class, num_classes, plt_idx)\n",
        "        plt.imshow(X_train[idx].astype('uint8'))\n",
        "        plt.axis('off')\n",
        "        if i == 0:\n",
        "            plt.title(cls)\n",
        "plt.show()"
      ]
    },
    {
      "cell_type": "code",
      "execution_count": 7,
      "metadata": {
        "id": "ksk5g0TL817K",
        "colab": {
          "base_uri": "https://localhost:8080/"
        },
        "outputId": "06155285-204e-4e82-be9e-36c6eacc8e84"
      },
      "outputs": [
        {
          "output_type": "stream",
          "name": "stdout",
          "text": [
            "(5000, 3072) (500, 3072)\n"
          ]
        }
      ],
      "source": [
        "# Subsample the data for more efficient code execution in this exercise\n",
        "num_training = 5000\n",
        "mask = list(range(num_training))\n",
        "X_train = X_train[mask]\n",
        "y_train = y_train[mask]\n",
        "\n",
        "num_test = 500\n",
        "mask = list(range(num_test))\n",
        "X_test = X_test[mask]\n",
        "y_test = y_test[mask]\n",
        "\n",
        "# Reshape the image data into rows\n",
        "X_train = np.reshape(X_train, (X_train.shape[0], -1))\n",
        "X_test = np.reshape(X_test, (X_test.shape[0], -1))\n",
        "print(X_train.shape, X_test.shape)"
      ]
    },
    {
      "cell_type": "code",
      "source": [
        "test = np.zeros((2,3072))\n",
        "# train = np.array([[1,2,3],[4,5,6],[2,6,7]])\n",
        "train = np.ones((4,3072))\n",
        "print(train.shape)"
      ],
      "metadata": {
        "colab": {
          "base_uri": "https://localhost:8080/"
        },
        "id": "_5IiQVPnRd1j",
        "outputId": "e803d7db-e96f-4f44-e20d-7912a2a8e060"
      },
      "execution_count": 8,
      "outputs": [
        {
          "output_type": "stream",
          "name": "stdout",
          "text": [
            "(4, 3072)\n"
          ]
        }
      ]
    },
    {
      "cell_type": "code",
      "source": [
        "np.linalg.norm(train-test[:,np.newaxis], axis = 2).shape\n",
        "# dis = test[:,np.newaxis]-train\n",
        "# # dist = np.transpose(dis, (0, 2, 1))\n",
        "# dis = dis ** 2\n",
        "# dist = np.sqrt(np.sum(dis,axis=2))\n",
        "# print(dist)"
      ],
      "metadata": {
        "colab": {
          "base_uri": "https://localhost:8080/"
        },
        "id": "vd4vULkqRuMa",
        "outputId": "1c925f1e-4ba7-4d16-a94d-6dd45500b5e8"
      },
      "execution_count": 9,
      "outputs": [
        {
          "output_type": "execute_result",
          "data": {
            "text/plain": [
              "(2, 4)"
            ]
          },
          "metadata": {},
          "execution_count": 9
        }
      ]
    },
    {
      "cell_type": "code",
      "source": [
        "# from collections import Counter\n",
        "d = np.array([1,9,9,4,5])\n",
        "a = d[np.argsort(dist[0,:])]\n",
        "print(max(set(a), key = list(a).count))"
      ],
      "metadata": {
        "colab": {
          "base_uri": "https://localhost:8080/"
        },
        "id": "85BiQ7mDZkH3",
        "outputId": "fc3bd93b-5dd5-495e-966d-8f06740e12e0"
      },
      "execution_count": 81,
      "outputs": [
        {
          "output_type": "stream",
          "name": "stdout",
          "text": [
            "9\n"
          ]
        }
      ]
    },
    {
      "cell_type": "markdown",
      "metadata": {
        "id": "2V7Glbs-817K"
      },
      "source": [
        "# K-nearest neighbors\n",
        "\n",
        "In the following cells, you will build a KNN classifier and choose hyperparameters via k-fold cross-validation."
      ]
    },
    {
      "cell_type": "code",
      "execution_count": null,
      "metadata": {
        "id": "Ze7txtl0817L"
      },
      "outputs": [],
      "source": [
        "# Import the KNN class\n",
        "\n",
        "from nndl import KNN"
      ]
    },
    {
      "cell_type": "code",
      "source": [
        "import numpy as np\n",
        "import pdb\n",
        "\n",
        "\n",
        "class KNN(object):\n",
        "\n",
        "  def __init__(self):\n",
        "    pass\n",
        "\n",
        "  def train(self, X, y):\n",
        "    \"\"\"\n",
        "    Inputs:\n",
        "    - X is a numpy array of size (num_examples, D)\n",
        "    - y is a numpy array of size (num_examples, )\n",
        "    \"\"\"\n",
        "    self.X_train = X\n",
        "    self.y_train = y\n",
        "\n",
        "  def compute_distances(self, X, norm=None):\n",
        "    \"\"\"\n",
        "    Compute the distance between each test point in X and each training point\n",
        "    in self.X_train.\n",
        "\n",
        "    Inputs:\n",
        "    - X: A numpy array of shape (num_test, D) containing test data.\n",
        "    - norm: the function with which the norm is taken.\n",
        "\n",
        "    Returns:\n",
        "    - dists: A numpy array of shape (num_test, num_train) where dists[i, j]\n",
        "      is the Euclidean distance between the ith test point and the jth training\n",
        "      point.\n",
        "    \"\"\"\n",
        "    if norm is None:\n",
        "      norm = lambda x: np.sqrt(np.sum(x**2))\n",
        "      #norm = 2\n",
        "\n",
        "    num_test = X.shape[0]\n",
        "    num_train = self.X_train.shape[0]\n",
        "    dists = np.zeros((num_test, num_train))\n",
        "    for i in np.arange(num_test):\n",
        "        \n",
        "      for j in np.arange(num_train):\n",
        "        dists[i,j] = np.linalg.norm(self.X_train[j]-X[i])\n",
        "        # ================================================================ #\n",
        "        # YOUR CODE HERE:\n",
        "        #   Compute the distance between the ith test point and the jth       \n",
        "        #   training point using norm(), and store the result in dists[i, j].     \n",
        "        # ================================================================ #\n",
        "\n",
        "        # pass\n",
        "\n",
        "    return dists\n",
        "\n",
        "  def compute_L2_distances_vectorized(self, X):\n",
        "    \"\"\"\n",
        "    Compute the distance between each test point in X and each training point\n",
        "    in self.X_train WITHOUT using any for loops.\n",
        "\n",
        "    Inputs:\n",
        "    - X: A numpy array of shape (num_test, D) containing test data.\n",
        "\n",
        "    Returns:\n",
        "    - dists: A numpy array of shape (num_test, num_train) where dists[i, j]\n",
        "      is the Euclidean distance between the ith test point and the jth training\n",
        "      point.\n",
        "    \"\"\"\n",
        "    num_test = X.shape[0]\n",
        "    num_train = self.X_train.shape[0]\n",
        "    dists = X[:,np.newaxis] - self.X_train\n",
        "    dists = dists ** 2\n",
        "    dists = np.sqrt(np.sum(dists,axis=2))\n",
        "\n",
        "    # ================================================================ #\n",
        "    # YOUR CODE HERE:\n",
        "    #   Compute the L2 distance between the ith test point and the jth       \n",
        "    #   training point and store the result in dists[i, j].  You may \n",
        "    #   NOT use a for loop (or list comprehension).  You may only use\n",
        "    #   numpy operations.\n",
        "    #\n",
        "    #   HINT: use broadcasting.  If you have a shape (N,1) array and\n",
        "    #   a shape (M,) array, adding them together produces a shape (N, M) \n",
        "    #   array.\n",
        "    # ================================================================ #\n",
        "\n",
        "    # pass\n",
        "\n",
        "    # ================================================================ #\n",
        "    # END YOUR CODE HERE\n",
        "    # ================================================================ #\n",
        "\n",
        "    return dists\n",
        "\n",
        "\n",
        "  def predict_labels(self, dists, k=1):\n",
        "    \"\"\"\n",
        "    Given a matrix of distances between test points and training points,\n",
        "    predict a label for each test point.\n",
        "\n",
        "    Inputs:\n",
        "    - dists: A numpy array of shape (num_test, num_train) where dists[i, j]\n",
        "      gives the distance betwen the ith test point and the jth training point.\n",
        "\n",
        "    Returns:\n",
        "    - y: A numpy array of shape (num_test,) containing predicted labels for the\n",
        "      test data, where y[i] is the predicted label for the test point X[i].  \n",
        "    \"\"\"\n",
        "    num_test = dists.shape[0]\n",
        "    y_pred = np.zeros(num_test)\n",
        "    for i in np.arange(num_test):\n",
        "      # A list of length k storing the labels of the k nearest neighbors to\n",
        "      # the ith test point.\n",
        "      closest_y = np.argsort(dists[i,:])\n",
        "      closest_y = closest_y[0:k,:]\n",
        "      pred = self.y_train[closest_y]\n",
        "      y_pred[i] = max(set(pred), key = list(pred).count)\n",
        "      # ================================================================ #\n",
        "      # YOUR CODE HERE:\n",
        "      #   Use the distances to calculate and then store the labels of \n",
        "      #   the k-nearest neighbors to the ith test point.  The function\n",
        "      #   numpy.argsort may be useful.\n",
        "      #   \n",
        "      #   After doing this, find the most common label of the k-nearest\n",
        "      #   neighbors.  Store the predicted label of the ith training example\n",
        "      #   as y_pred[i].  Break ties by choosing the smaller label.\n",
        "      # ================================================================ #\n",
        "  \n",
        "      # pass\n",
        "\n",
        "      # ================================================================ #\n",
        "      # END YOUR CODE HERE\n",
        "      # ================================================================ #\n",
        "\n",
        "    return y_pred\n"
      ],
      "metadata": {
        "id": "JwJOtLhzbmLB"
      },
      "execution_count": 7,
      "outputs": []
    },
    {
      "cell_type": "code",
      "execution_count": 14,
      "metadata": {
        "id": "EtCMry8j817M"
      },
      "outputs": [],
      "source": [
        "# Declare an instance of the knn class.\n",
        "knn = KNN()\n",
        "\n",
        "# Train the classifier.\n",
        "#   We have implemented the training of the KNN classifier.\n",
        "#   Look at the train function in the KNN class to see what this does.\n",
        "knn.train(X=X_train, y=y_train)"
      ]
    },
    {
      "cell_type": "markdown",
      "metadata": {
        "id": "d0HSx4eE817M"
      },
      "source": [
        "## Questions\n",
        "\n",
        "(1) Describe what is going on in the function knn.train().\n",
        "\n",
        "(2) What are the pros and cons of this training step?"
      ]
    },
    {
      "cell_type": "markdown",
      "metadata": {
        "id": "ZN_UrlNg817M"
      },
      "source": [
        "## Answers\n",
        "\n",
        "(1) In KNN train step we just save the input data and corresponding label\n",
        "\n",
        "(2)  \n",
        "####pros <br>\n",
        "        Training steps is fast \n",
        "###cons <br>\n",
        "        Testing process is quite slow \n",
        "        KNN is memory intensive "
      ]
    },
    {
      "cell_type": "markdown",
      "metadata": {
        "id": "45F93Wzt817N"
      },
      "source": [
        "## KNN prediction\n",
        "\n",
        "In the following sections, you will implement the functions to calculate the distances of test points to training points, and from this information, predict the class of the KNN."
      ]
    },
    {
      "cell_type": "code",
      "execution_count": 12,
      "metadata": {
        "id": "hhseKk2W817N",
        "colab": {
          "base_uri": "https://localhost:8080/"
        },
        "outputId": "ba588c1f-a527-4457-a6a1-85e2cb128cb3"
      },
      "outputs": [
        {
          "output_type": "stream",
          "name": "stdout",
          "text": [
            "Time to run code: 28.122045040130615\n",
            "Frobenius norm of L2 distances: 7906696.077040902\n"
          ]
        }
      ],
      "source": [
        "# Implement the function compute_distances() in the KNN class.\n",
        "# Do not worry about the input 'norm' for now; use the default definition of the norm\n",
        "#   in the code, which is the 2-norm.\n",
        "# You should only have to fill out the clearly marked sections.\n",
        "\n",
        "import time\n",
        "time_start =time.time()\n",
        "\n",
        "dists_L2 = knn.compute_distances(X=X_test)\n",
        "\n",
        "print('Time to run code: {}'.format(time.time()-time_start))\n",
        "print('Frobenius norm of L2 distances: {}'.format(np.linalg.norm(dists_L2, 'fro')))"
      ]
    },
    {
      "cell_type": "markdown",
      "metadata": {
        "id": "xjIGV-pZ817P"
      },
      "source": [
        "#### Really slow code\n",
        "\n",
        "Note: \n",
        "This probably took a while. This is because we use two for loops.  We could increase the speed via vectorization, removing the for loops.\n",
        "\n",
        "If you implemented this correctly, evaluating np.linalg.norm(dists_L2, 'fro') should return: ~7906696"
      ]
    },
    {
      "cell_type": "markdown",
      "metadata": {
        "id": "BnFz047-817P"
      },
      "source": [
        "### KNN vectorization\n",
        "\n",
        "The above code took far too long to run.  If we wanted to optimize hyperparameters, it would be time-expensive.  Thus, we will speed up the code by vectorizing it, removing the for loops."
      ]
    },
    {
      "cell_type": "code",
      "execution_count": null,
      "metadata": {
        "id": "IIzxyUzo817P"
      },
      "outputs": [],
      "source": [
        "# Implement the function compute_L2_distances_vectorized() in the KNN class.\n",
        "# In this function, you ought to achieve the same L2 distance but WITHOUT any for loops.\n",
        "# Note, this is SPECIFIC for the L2 norm.\n",
        "import time\n",
        "time_start =time.time()\n",
        "dists_L2_vectorized = knn.compute_L2_distances_vectorized(X=X_test)\n",
        "print('Time to run code: {}'.format(time.time()-time_start))\n",
        "print('Difference in L2 distances between your KNN implementations (should be 0): {}'.format(np.linalg.norm(dists_L2 - dists_L2_vectorized, 'fro')))"
      ]
    },
    {
      "cell_type": "markdown",
      "metadata": {
        "id": "H1KdO2qY817Q"
      },
      "source": [
        "#### Speedup\n",
        "\n",
        "Depending on your computer speed, you should see a 10-100x speed up from vectorization.  On our computer, the vectorized form took 0.36 seconds while the naive implementation took 38.3 seconds. "
      ]
    },
    {
      "cell_type": "markdown",
      "metadata": {
        "id": "KBBpZUg-817Q"
      },
      "source": [
        "### Implementing the prediction\n",
        "\n",
        "Now that we have functions to calculate the distances from a test point to given training points, we now implement the function that will predict the test point labels."
      ]
    },
    {
      "cell_type": "code",
      "execution_count": null,
      "metadata": {
        "id": "kdBfT_c-817Q"
      },
      "outputs": [],
      "source": [
        "# Implement the function predict_labels in the KNN class.\n",
        "# Calculate the training error (num_incorrect / total_samples) \n",
        "#   from running knn.predict_labels with k=1\n",
        "\n",
        "error = 1\n",
        "\n",
        "# ================================================================ #\n",
        "# YOUR CODE HERE:\n",
        "#   Calculate the error rate by calling predict_labels on the test \n",
        "#   data with k = 1.  Store the error rate in the variable error.\n",
        "# ================================================================ #\n",
        "pass\n",
        "# ================================================================ #\n",
        "# END YOUR CODE HERE\n",
        "# ================================================================ #\n",
        "\n",
        "print(error)"
      ]
    },
    {
      "cell_type": "markdown",
      "metadata": {
        "id": "_oHcAf4g817Q"
      },
      "source": [
        "If you implemented this correctly, the error should be: 0.726.\n",
        "\n",
        "This means that the k-nearest neighbors classifier is right 27.4% of the time, which is not great, considering that chance levels are 10%."
      ]
    },
    {
      "cell_type": "markdown",
      "metadata": {
        "id": "i4l_obHm817R"
      },
      "source": [
        "# Optimizing KNN hyperparameters\n",
        "\n",
        "In this section, we'll take the KNN classifier that you have constructed and perform cross-validation to choose a best value of $k$, as well as a best choice of norm."
      ]
    },
    {
      "cell_type": "markdown",
      "metadata": {
        "id": "ewJ8cIb1817R"
      },
      "source": [
        "### Create training and validation folds\n",
        "\n",
        "First, we will create the training and validation folds for use in k-fold cross validation."
      ]
    },
    {
      "cell_type": "code",
      "execution_count": null,
      "metadata": {
        "id": "bIsHxbr-817R"
      },
      "outputs": [],
      "source": [
        "# Create the dataset folds for cross-valdiation.\n",
        "num_folds = 5\n",
        "\n",
        "X_train_folds = []\n",
        "y_train_folds =  []\n",
        "\n",
        "# ================================================================ #\n",
        "# YOUR CODE HERE:\n",
        "#   Split the training data into num_folds (i.e., 5) folds.\n",
        "#   X_train_folds is a list, where X_train_folds[i] contains the \n",
        "#      data points in fold i.\n",
        "#   y_train_folds is also a list, where y_train_folds[i] contains\n",
        "#      the corresponding labels for the data in X_train_folds[i]\n",
        "# ================================================================ #\n",
        "pass\n",
        "\n",
        "# ================================================================ #\n",
        "# END YOUR CODE HERE\n",
        "# ================================================================ #\n",
        "\n"
      ]
    },
    {
      "cell_type": "markdown",
      "metadata": {
        "id": "oS4Y3VTp817R"
      },
      "source": [
        "### Optimizing the number of nearest neighbors hyperparameter.\n",
        "\n",
        "In this section, we select different numbers of nearest neighbors and assess which one has the lowest k-fold cross validation error."
      ]
    },
    {
      "cell_type": "code",
      "execution_count": null,
      "metadata": {
        "id": "s7MDaxNQ817R"
      },
      "outputs": [],
      "source": [
        "time_start =time.time()\n",
        "\n",
        "ks = [1, 2, 3, 5, 7, 10, 15, 20, 25, 30]\n",
        "\n",
        "# ================================================================ #\n",
        "# YOUR CODE HERE:\n",
        "#   Calculate the cross-validation error for each k in ks, testing\n",
        "#   the trained model on each of the 5 folds.  Average these errors\n",
        "#   together and make a plot of k vs. cross-validation error. Since \n",
        "#   we are assuming L2 distance here, please use the vectorized code!\n",
        "#   Otherwise, you might be waiting a long time.\n",
        "# ================================================================ #\n",
        "\n",
        "pass\n",
        "\n",
        "# ================================================================ #\n",
        "# END YOUR CODE HERE\n",
        "# ================================================================ #\n",
        "\n",
        "print('Computation time: %.2f'%(time.time()-time_start))"
      ]
    },
    {
      "cell_type": "markdown",
      "metadata": {
        "id": "LzPIInse817S"
      },
      "source": [
        "## Questions:\n",
        "\n",
        "(1) What value of $k$ is best amongst the tested $k$'s?\n",
        "\n",
        "(2) What is the cross-validation error for this value of $k$?"
      ]
    },
    {
      "cell_type": "markdown",
      "metadata": {
        "id": "0wv7MeEs817S"
      },
      "source": [
        "## Answers:\n",
        "\n",
        "(1) You fill this in.\n",
        "\n",
        "(2) You fill this in."
      ]
    },
    {
      "cell_type": "markdown",
      "metadata": {
        "id": "QINXjZd5817S"
      },
      "source": [
        "### Optimizing the norm\n",
        "\n",
        "Next, we test three different norms (the 1, 2, and infinity norms) and see which distance metric results in the best cross-validation performance."
      ]
    },
    {
      "cell_type": "code",
      "execution_count": null,
      "metadata": {
        "scrolled": false,
        "id": "drO3F2cK817S"
      },
      "outputs": [],
      "source": [
        "time_start =time.time()\n",
        "\n",
        "L1_norm = lambda x: np.linalg.norm(x, ord=1)\n",
        "L2_norm = lambda x: np.linalg.norm(x, ord=2)\n",
        "Linf_norm = lambda x: np.linalg.norm(x, ord= np.inf)\n",
        "norms = [L1_norm, L2_norm, Linf_norm]\n",
        "\n",
        "# ================================================================ #\n",
        "# YOUR CODE HERE:\n",
        "#   Calculate the cross-validation error for each norm in norms, testing\n",
        "#   the trained model on each of the 5 folds.  Average these errors\n",
        "#   together and make a plot of the norm used vs the cross-validation error\n",
        "#   Use the best cross-validation k from the previous part.  \n",
        "#\n",
        "#   Feel free to use the compute_distances function.  We're testing just\n",
        "#   three norms, but be advised that this could still take some time.\n",
        "#   You're welcome to write a vectorized form of the L1- and Linf- norms\n",
        "#   to speed this up, but it is not necessary.\n",
        "# ================================================================ #\n",
        "\n",
        "pass\n",
        "\n",
        "# ================================================================ #\n",
        "# END YOUR CODE HERE\n",
        "# ================================================================ #\n",
        "print('Computation time: %.2f'%(time.time()-time_start))"
      ]
    },
    {
      "cell_type": "markdown",
      "metadata": {
        "id": "1WtVvrXk817T"
      },
      "source": [
        "## Questions:\n",
        "\n",
        "(1) What norm has the best cross-validation error?\n",
        "\n",
        "(2) What is the cross-validation error for your given norm and k?"
      ]
    },
    {
      "cell_type": "markdown",
      "metadata": {
        "id": "lMiit9Hc817T"
      },
      "source": [
        "## Answers: \n",
        "\n",
        "(1) You fill this in.\n",
        "\n",
        "(2) You fill this in."
      ]
    },
    {
      "cell_type": "markdown",
      "metadata": {
        "id": "wjekvbs4817T"
      },
      "source": [
        "# Evaluating the model on the testing dataset.\n",
        "\n",
        "Now, given the optimal $k$ and norm you found in earlier parts, evaluate the testing error of the k-nearest neighbors model."
      ]
    },
    {
      "cell_type": "code",
      "execution_count": null,
      "metadata": {
        "id": "zdtu90Ab817U"
      },
      "outputs": [],
      "source": [
        "error = 1\n",
        "\n",
        "# ================================================================ #\n",
        "# YOUR CODE HERE:\n",
        "#   Evaluate the testing error of the k-nearest neighbors classifier\n",
        "#   for your optimal hyperparameters found by 5-fold cross-validation.\n",
        "# ================================================================ #\n",
        "\n",
        "pass\n",
        "\n",
        "# ================================================================ #\n",
        "# END YOUR CODE HERE\n",
        "# ================================================================ #\n",
        "\n",
        "print('Error rate achieved: {}'.format(error))"
      ]
    },
    {
      "cell_type": "markdown",
      "metadata": {
        "id": "f-fYIEc_817U"
      },
      "source": [
        "## Question:\n",
        "\n",
        "How much did your error improve by cross-validation over naively choosing $k=1$ and using the L2-norm?"
      ]
    },
    {
      "cell_type": "markdown",
      "metadata": {
        "id": "HDIMEfxp817V"
      },
      "source": [
        "## Answer:\n",
        "\n",
        "You fill this in."
      ]
    }
  ],
  "metadata": {
    "kernelspec": {
      "display_name": "Python 3 (ipykernel)",
      "language": "python",
      "name": "python3"
    },
    "language_info": {
      "codemirror_mode": {
        "name": "ipython",
        "version": 3
      },
      "file_extension": ".py",
      "mimetype": "text/x-python",
      "name": "python",
      "nbconvert_exporter": "python",
      "pygments_lexer": "ipython3",
      "version": "3.9.9"
    },
    "colab": {
      "name": "knn_nosol.ipynb",
      "provenance": [],
      "machine_shape": "hm",
      "include_colab_link": true
    }
  },
  "nbformat": 4,
  "nbformat_minor": 0
}